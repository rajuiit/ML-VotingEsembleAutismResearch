{
  "nbformat": 4,
  "nbformat_minor": 0,
  "metadata": {
    "colab": {
      "name": "VotingEsembleAutismResearch.V.1.ipynb",
      "provenance": [],
      "collapsed_sections": [],
      "authorship_tag": "ABX9TyM5JOBLe/yuxYaBbHTLfLov",
      "include_colab_link": true
    },
    "kernelspec": {
      "name": "python3",
      "display_name": "Python 3"
    }
  },
  "cells": [
    {
      "cell_type": "markdown",
      "metadata": {
        "id": "view-in-github",
        "colab_type": "text"
      },
      "source": [
        "<a href=\"https://colab.research.google.com/github/rajuiit/ML-VotingEsembleAutismResearch/blob/master/VotingEsembleAutismResearch_V_1.ipynb\" target=\"_parent\"><img src=\"https://colab.research.google.com/assets/colab-badge.svg\" alt=\"Open In Colab\"/></a>"
      ]
    },
    {
      "cell_type": "code",
      "metadata": {
        "id": "tvZF3YD6xhvk",
        "colab_type": "code",
        "colab": {}
      },
      "source": [
        "import pandas as pd\n",
        "\n",
        "from google.colab import drive\n",
        "drive.mount('/content/gdrive')"
      ],
      "execution_count": 0,
      "outputs": []
    },
    {
      "cell_type": "code",
      "metadata": {
        "id": "Mn_pB_x1xwDg",
        "colab_type": "code",
        "colab": {}
      },
      "source": [
        "import matplotlib.pyplot as plt\n",
        "%matplotlib inline\n",
        "import seaborn as sns\n",
        "sns.set()\n",
        "# Importing Classifier Modules\n",
        "from sklearn.tree import DecisionTreeClassifier\n",
        "from sklearn.ensemble import RandomForestClassifier\n",
        "from sklearn.svm import SVC\n",
        "from sklearn.naive_bayes import GaussianNB\n",
        "from sklearn.ensemble import AdaBoostClassifier\n",
        "from sklearn.neural_network import MLPClassifier\n",
        "from sklearn.naive_bayes import MultinomialNB\n",
        "from sklearn.metrics import confusion_matrix\n",
        "from sklearn.metrics import accuracy_score\n",
        "from sklearn.metrics import classification_report\n",
        "from sklearn.metrics import roc_auc_score\n",
        "from sklearn.metrics import classification_report\n",
        "from sklearn.model_selection import cross_val_score\n",
        "\n",
        "from sklearn.ensemble import GradientBoostingClassifier\n",
        "import keras\n",
        "from keras.models import Sequential\n",
        "from keras.layers import Dense, Dropout, Activation\n",
        "\n",
        "from sklearn.linear_model import LogisticRegression\n",
        "from sklearn.neighbors import KNeighborsClassifier\n",
        "\n",
        "import numpy as np"
      ],
      "execution_count": 0,
      "outputs": []
    },
    {
      "cell_type": "code",
      "metadata": {
        "id": "yB7zXdKFpeH8",
        "colab_type": "code",
        "colab": {}
      },
      "source": [
        "train=pd.read_csv('gdrive/My Drive/Colab Notebooks/Autism/trainfinal.csv')\n",
        "test=pd.read_csv('gdrive/My Drive/Colab Notebooks/Autism/testfinal.csv');"
      ],
      "execution_count": 0,
      "outputs": []
    },
    {
      "cell_type": "code",
      "metadata": {
        "id": "yYHXh1gtzB21",
        "colab_type": "code",
        "colab": {}
      },
      "source": [
        "train.head(5)"
      ],
      "execution_count": 0,
      "outputs": []
    },
    {
      "cell_type": "code",
      "metadata": {
        "id": "Pk7FtomFzRgz",
        "colab_type": "code",
        "colab": {}
      },
      "source": [
        "def bar_chart(feature):\n",
        "    autism = train[train['Autism']==1][feature].value_counts()\n",
        "    noautism = train[train['Autism']==0][feature].value_counts()\n",
        "    df = pd.DataFrame([autism,noautism])\n",
        "    df.index = ['Autism','No Autism']\n",
        "    df.plot(kind='bar',stacked=True, figsize=(10,5))"
      ],
      "execution_count": 0,
      "outputs": []
    },
    {
      "cell_type": "code",
      "metadata": {
        "id": "IToRKYbjzYXD",
        "colab_type": "code",
        "colab": {}
      },
      "source": [
        "bar_chart('Gender')"
      ],
      "execution_count": 0,
      "outputs": []
    },
    {
      "cell_type": "code",
      "metadata": {
        "id": "L1zDwR94zfj0",
        "colab_type": "code",
        "colab": {}
      },
      "source": [
        "bar_chart('House_Area')"
      ],
      "execution_count": 0,
      "outputs": []
    },
    {
      "cell_type": "code",
      "metadata": {
        "id": "ozHVybhmziW8",
        "colab_type": "code",
        "colab": {}
      },
      "source": [
        "bar_chart('Region')"
      ],
      "execution_count": 0,
      "outputs": []
    },
    {
      "cell_type": "code",
      "metadata": {
        "id": "VXbDD0AVzkz8",
        "colab_type": "code",
        "colab": {}
      },
      "source": [
        "bar_chart('Can_Play_With')"
      ],
      "execution_count": 0,
      "outputs": []
    },
    {
      "cell_type": "code",
      "metadata": {
        "id": "vBXf7jFqznPt",
        "colab_type": "code",
        "colab": {}
      },
      "source": [
        "bar_chart('Jaundise')"
      ],
      "execution_count": 0,
      "outputs": []
    },
    {
      "cell_type": "code",
      "metadata": {
        "id": "SDc245aMzqpd",
        "colab_type": "code",
        "colab": {}
      },
      "source": [
        "train_test_data = [train,test]\n",
        "sex_mapping = {\"Male\": 0, \"Female\": 1}\n",
        "for dataset in train_test_data:\n",
        "    dataset['Gender'] = dataset['Gender'].map(sex_mapping)"
      ],
      "execution_count": 0,
      "outputs": []
    },
    {
      "cell_type": "code",
      "metadata": {
        "id": "xT7h9YYkzvPj",
        "colab_type": "code",
        "colab": {}
      },
      "source": [
        "bar_chart('Gender')"
      ],
      "execution_count": 0,
      "outputs": []
    },
    {
      "cell_type": "code",
      "metadata": {
        "id": "k9_teSy8zzSm",
        "colab_type": "code",
        "colab": {}
      },
      "source": [
        "train[\"Age\"].fillna(train.groupby(\"Autism\")[\"Age\"].transform(\"median\"), inplace=True)"
      ],
      "execution_count": 0,
      "outputs": []
    },
    {
      "cell_type": "code",
      "metadata": {
        "id": "n7dwzG1gz1s9",
        "colab_type": "code",
        "colab": {}
      },
      "source": [
        "train.groupby(\"Autism\")[\"Age\"].transform(\"median\")"
      ],
      "execution_count": 0,
      "outputs": []
    },
    {
      "cell_type": "code",
      "metadata": {
        "id": "yVVyaFtfz6W0",
        "colab_type": "code",
        "colab": {}
      },
      "source": [
        "for dataset in train_test_data:\n",
        "    dataset.loc[ dataset['Age'] <= 6, 'Age'] = 0,\n",
        "    dataset.loc[(dataset['Age'] > 6) & (dataset['Age'] <= 12), 'Age'] = 1,\n",
        "    dataset.loc[(dataset['Age'] > 12) & (dataset['Age'] <= 18), 'Age'] = 2"
      ],
      "execution_count": 0,
      "outputs": []
    },
    {
      "cell_type": "code",
      "metadata": {
        "id": "sGlEAHyLz9qE",
        "colab_type": "code",
        "colab": {}
      },
      "source": [
        "bar_chart('Age')"
      ],
      "execution_count": 0,
      "outputs": []
    },
    {
      "cell_type": "code",
      "metadata": {
        "id": "6Rt4kH8o1H7j",
        "colab_type": "code",
        "colab": {}
      },
      "source": [
        "region_mapping = {\"Urban\": 0, \"Rural\": 1}\n",
        "for dataset in train_test_data:\n",
        "    dataset['Region'] = dataset['Region'].map(region_mapping)"
      ],
      "execution_count": 0,
      "outputs": []
    },
    {
      "cell_type": "code",
      "metadata": {
        "id": "peu5xylq1QV7",
        "colab_type": "code",
        "colab": {}
      },
      "source": [
        "house_mapping = {\"Small\": 0, \"Medium\": 1,\"Large\": 2}\n",
        "for dataset in train_test_data:\n",
        "    dataset['House_Area'] = dataset['House_Area'].map(house_mapping)"
      ],
      "execution_count": 0,
      "outputs": []
    },
    {
      "cell_type": "code",
      "metadata": {
        "id": "hBwMKkAa1SlF",
        "colab_type": "code",
        "colab": {}
      },
      "source": [
        "jaundise_mapping = {\"Yes\": 1, \"No\": 0}\n",
        "for dataset in train_test_data:\n",
        "    dataset['Jaundise'] = dataset['Jaundise'].map(jaundise_mapping)"
      ],
      "execution_count": 0,
      "outputs": []
    },
    {
      "cell_type": "code",
      "metadata": {
        "id": "ijbukx9E0Ak-",
        "colab_type": "code",
        "colab": {}
      },
      "source": [
        "\n",
        "for dataset in train_test_data:\n",
        "    dataset['Q11'] = dataset['Q11'].fillna(3)\n",
        "\n",
        "for dataset in train_test_data:\n",
        "    dataset['Q14'] = dataset['Q14'].fillna(3)\n",
        "\n",
        "\n",
        "for dataset in train_test_data:\n",
        "    dataset['Q15'] = dataset['Q15'].fillna(3)\n",
        "\n",
        "for dataset in train_test_data:\n",
        "    dataset['Q17'] = dataset['Q17'].fillna(3)\n",
        "\n",
        "for dataset in train_test_data:\n",
        "    dataset['Q18'] = dataset['Q18'].fillna(3)\n",
        "\n",
        "for dataset in train_test_data:\n",
        "    dataset['Q33'] = dataset['Q33'].fillna(3)\n",
        "\n",
        "for dataset in train_test_data:\n",
        "    dataset['Q35'] = dataset['Q35'].fillna(3)\n",
        "\n",
        "for dataset in train_test_data:\n",
        "    dataset['Q38'] = dataset['Q38'].fillna(3)\n",
        "\n",
        "for dataset in train_test_data:\n",
        "    dataset['Q40'] = dataset['Q40'].fillna(3)\n",
        "\n",
        "for dataset in train_test_data:\n",
        "    dataset['Q49'] = dataset['Q49'].fillna(3)\n",
        "\n",
        "for dataset in train_test_data:\n",
        "    dataset['Q51'] = dataset['Q51'].fillna(3)\n",
        "\n",
        "for dataset in train_test_data:\n",
        "    dataset['Q65'] = dataset['Q65'].fillna(3)\n",
        "\n",
        "for dataset in train_test_data:\n",
        "    dataset['Q56'] = dataset['Q56'].fillna(3)"
      ],
      "execution_count": 0,
      "outputs": []
    },
    {
      "cell_type": "code",
      "metadata": {
        "id": "DNOyBkfl0EBr",
        "colab_type": "code",
        "colab": {}
      },
      "source": [
        "\n",
        "l=train['Autism']\n",
        "train_data = train.drop('Autism', axis=1)\n",
        "target = train['Autism']\n",
        "\n",
        "train_data.shape, target.shape\n",
        "\n",
        " "
      ],
      "execution_count": 0,
      "outputs": []
    },
    {
      "cell_type": "code",
      "metadata": {
        "id": "hndBV7L808cw",
        "colab_type": "code",
        "colab": {}
      },
      "source": [
        "train_data .head(10)"
      ],
      "execution_count": 0,
      "outputs": []
    },
    {
      "cell_type": "code",
      "metadata": {
        "id": "_YSiw1An2UWY",
        "colab_type": "code",
        "colab": {}
      },
      "source": [
        "pd.set_option('display.max_rows',None)\n",
        "from sklearn.model_selection import train_test_split\n",
        "#X_train, X_test, y_train, y_test = train_test_split(train_data, target, test_size=.20, random_state=4, stratify=target)\n",
        "X_train, X_test, y_train, y_test = train_test_split(train_data, target, test_size=.20, random_state=4)\n",
        "print(\"X_train: \", X_train.shape)\n",
        "print(\"X_test: \", X_test.shape)\n",
        "print(\"y_train: \", y_train.shape)\n",
        "print(\"y_test: \", y_test.shape)\n",
        "print(y_test)"
      ],
      "execution_count": 0,
      "outputs": []
    },
    {
      "cell_type": "code",
      "metadata": {
        "id": "oNXK5U3dqtKw",
        "colab_type": "code",
        "colab": {}
      },
      "source": [
        "#from sklearn.preprocessing import StandardScaler\n",
        "# = StandardScaler()\n",
        "#X_train = sc_X.fit_transform(X_train)\n",
        "#X_test = sc_X.transform(X_test)\n"
      ],
      "execution_count": 0,
      "outputs": []
    },
    {
      "cell_type": "code",
      "metadata": {
        "id": "9oNP_6iK2Zu0",
        "colab_type": "code",
        "colab": {}
      },
      "source": [
        "#Decision Tree Classifier : Model Evaluation using Confusion Matrix\n",
        "#model fil & train\n",
        "from sklearn.metrics import confusion_matrix\n",
        "from sklearn.metrics import average_precision_score\n",
        "## for ploting roc_curve\n",
        "\n",
        "from sklearn.metrics import roc_curve, auc\n",
        "import matplotlib.pyplot as plt\n",
        "%matplotlib inline\n",
        "\n",
        "dt = DecisionTreeClassifier()\n",
        "dt.fit(X_train, y_train)\n",
        "y_pred = dt.predict(X_test)\n",
        "\n",
        "#Confusion Matrix & Measurement\n",
        "print(\"DecisionTreeClassifier: \")\n",
        "print(\"Confustion Matrix: \")\n",
        "print(confusion_matrix(y_test, y_pred))\n",
        "print(\"Acuracy: \", accuracy_score(y_test, y_pred)*100)\n",
        "print(\"Classification Report: \")\n",
        "print(classification_report(y_test, y_pred))\n",
        "\n",
        "y_pred_prob_dt = dt.predict_proba(X_test)[:,1]\n",
        "auc_dt = roc_auc_score(y_test, y_pred_prob_dt)*100;\n",
        "\n",
        "#auc_dt_f=auc(y_test, y_pred_prob_dt)\n",
        "\n",
        "print(\"AUC for DTC:\", auc_dt)\n",
        "\n",
        "fpr_dt, tpr_dt, thresholds = roc_curve(y_test, y_pred_prob_dt)\n",
        "\n",
        "\n",
        "avg_precision_score=average_precision_score(y_test, y_pred_prob_dt)*100\n",
        "print(\"Average Precision Score:\", avg_precision_score)\n",
        "\n",
        "\n",
        "#ROCCURVENEW\n",
        "\n",
        "#y_pred_dt = dt.decision_function(X_test)\n"
      ],
      "execution_count": 0,
      "outputs": []
    },
    {
      "cell_type": "code",
      "metadata": {
        "id": "URBs-KdGa6NX",
        "colab_type": "code",
        "colab": {}
      },
      "source": [
        ""
      ],
      "execution_count": 0,
      "outputs": []
    },
    {
      "cell_type": "code",
      "metadata": {
        "id": "h-9fpQSI5hy8",
        "colab_type": "code",
        "colab": {}
      },
      "source": [
        "\n",
        "#Multinomial Naive Bayes\n",
        "\n",
        "nb = MultinomialNB()\n",
        "nb.fit(X_train, y_train)\n",
        "y_m_pred = nb.predict(X_test)\n",
        "\n",
        "#Confusion Matrix & Measurement\n",
        "print(\"Multinomial Naive Bayes: \")\n",
        "print(\"Confustion Matrix: \")\n",
        "print(confusion_matrix(y_test, y_m_pred))\n",
        "print(\"Acuracy: \", accuracy_score(y_test, y_m_pred)*100)\n",
        "print(\"Classification Report: \",classification_report(y_test, y_m_pred))\n",
        "\n",
        "y_pred_prob_mnb = nb.predict_proba(X_test)[:,1]\n",
        "fpr_mnb, tpr_mnb, thresholds = roc_curve(y_test, y_pred_prob_mnb)\n",
        "auc_mnb=roc_auc_score(y_test, y_pred_prob_mnb)*100\n",
        "print(\"AUC for MultinomialNB:\", auc_mnb)\n",
        "avg_precision_mnb=average_precision_score(y_test, y_pred_prob_mnb)*100 \n",
        "print(\"Average Precision Score:\", avg_precision_mnb)\n"
      ],
      "execution_count": 0,
      "outputs": []
    },
    {
      "cell_type": "code",
      "metadata": {
        "id": "RBMU9Kve8uqb",
        "colab_type": "code",
        "colab": {}
      },
      "source": [
        "#RandomForestClassifier\n",
        "\n",
        "rf = RandomForestClassifier(n_estimators=13)\n",
        "rf.fit(X_train, y_train)\n",
        "y_random_pred = rf.predict(X_test)\n",
        "\n",
        "#Confusion Matrix & Measurement\n",
        "print(\"RandomForestClassifier: \")\n",
        "print(\"Confustion Matrix: \")\n",
        "print(confusion_matrix(y_test, y_random_pred))\n",
        "print(\"Acuracy: \", accuracy_score(y_test, y_random_pred)*100)\n",
        "print(\"Classification Report: \",classification_report(y_test, y_random_pred))\n",
        "\n",
        "y_pred_prob_rf = rf.predict_proba(X_test)[:,1]\n",
        "fpr_rf, tpr_rf, thresholds = roc_curve(y_test, y_pred_prob_mnb)\n",
        "auc_rf=roc_auc_score(y_test, y_pred_prob_rf)*100\n",
        "print(\"AUC for RandomForestClassifier:\", auc_rf)\n",
        "\n",
        "avg_precision_rf=average_precision_score(y_test, y_pred_prob_rf)*100\n",
        "print(\"Average Precision Score:\",  avg_precision_rf)"
      ],
      "execution_count": 0,
      "outputs": []
    },
    {
      "cell_type": "code",
      "metadata": {
        "id": "VQcSqzAgHMFw",
        "colab_type": "code",
        "colab": {}
      },
      "source": [
        "#SVM\n",
        "sv = SVC(probability=True)\n",
        "sv.fit(X_train, y_train)\n",
        "y_svc_pred = sv.predict(X_test)\n",
        "\n",
        "#Confusion Matrix & Measurement\n",
        "print(\"SVMClassifier: \")\n",
        "print(\"Confustion Matrix: \")\n",
        "print(confusion_matrix(y_test, y_svc_pred))\n",
        "print(\"Acuracy: \", accuracy_score(y_test, y_svc_pred)*100)\n",
        "print(\"Classification Report: \",classification_report(y_test, y_svc_pred))\n",
        "\n",
        "y_pred_prob_svc = sv.predict_proba(X_test)[:,1]\n",
        "fpr_svm, tpr_svm, thresholds = roc_curve(y_test, y_pred_prob_svc)\n",
        "auc_svc=roc_auc_score(y_test, y_pred_prob_svc)*100\n",
        "print(\"AUC for SVMClassifier:\", auc_svc)\n",
        "avg_precision_svc=average_precision_score(y_test, y_pred_prob_svc)*100\n",
        "print(\"Average Precision Score:\", avg_precision_svc)\n",
        "\n"
      ],
      "execution_count": 0,
      "outputs": []
    },
    {
      "cell_type": "code",
      "metadata": {
        "id": "hVlvWPg_KQT1",
        "colab_type": "code",
        "colab": {}
      },
      "source": [
        "#GaussianNB\n",
        "\n",
        "gnb = GaussianNB()\n",
        "gnb.fit(X_train, y_train)\n",
        "y_g_pred = gnb.predict(X_test)\n",
        "\n",
        "#Confusion Matrix & Measurement\n",
        "print(\"GaussianNBClassifier: \")\n",
        "print(\"Confustion Matrix: \")\n",
        "print(confusion_matrix(y_test, y_g_pred))\n",
        "print(\"Acuracy: \", accuracy_score(y_test, y_g_pred)*100)\n",
        "print(\"Classification Report: \",classification_report(y_test, y_g_pred))\n",
        "\n",
        "y_pred_prob_gnb = gnb.predict_proba(X_test)[:,1]\n",
        "fpr_gnb, tpr_gnb, thresholds = roc_curve(y_test, y_pred_prob_gnb)\n",
        "auc_gnb=roc_auc_score(y_test, y_pred_prob_gnb)*100\n",
        "print(\"AUC for GaussianNBClassifier:\",auc_gnb )\n",
        "\n",
        "avg_precision_gnb=average_precision_score(y_test, y_pred_prob_gnb)*100 \n",
        "print(\"Average Precision Score:\", avg_precision_gnb)"
      ],
      "execution_count": 0,
      "outputs": []
    },
    {
      "cell_type": "code",
      "metadata": {
        "id": "corwZjU7atIi",
        "colab_type": "code",
        "colab": {}
      },
      "source": [
        "#AdaBoostClassifier\n",
        "\n",
        "ada = AdaBoostClassifier(n_estimators=100, random_state=100)\n",
        "ada.fit(X_train, y_train)\n",
        "y_ada_pred = ada.predict(X_test)\n",
        "\n",
        "#Confusion Matrix & Measurement\n",
        "print(\"AdaBoostClassifier: \")\n",
        "print(\"Confustion Matrix: \")\n",
        "print(confusion_matrix(y_test, y_ada_pred))\n",
        "print(\"Acuracy: \", accuracy_score(y_test, y_ada_pred)*100)\n",
        "print(\"Classification Report: \")\n",
        "\n",
        "print(classification_report(y_test, y_ada_pred))\n",
        "\n",
        "y_pred_prob_ada = ada.predict_proba(X_test)[:,1]\n",
        "fpr_ada, tpr_ada, thresholds = roc_curve(y_test, y_pred_prob_ada)\n",
        "auc_ada=roc_auc_score(y_test, y_pred_prob_ada)*100\n",
        "print(\"AUC for AdaBoostClassifier:\", auc_ada)\n",
        "\n",
        "avg_precision_ada=average_precision_score(y_test, y_pred_prob_ada)*100\n",
        "print(\"Average Precision Score:\", avg_precision_ada )"
      ],
      "execution_count": 0,
      "outputs": []
    },
    {
      "cell_type": "code",
      "metadata": {
        "id": "jMjyTUHtdrSj",
        "colab_type": "code",
        "colab": {}
      },
      "source": [
        "#MLPClassifier\n",
        "\n",
        "ml = MLPClassifier(solver='lbfgs', alpha=1e-5,hidden_layer_sizes=(5, 2), random_state=1)\n",
        "ml.fit(X_train, y_train)\n",
        "y_ml_pred = ml.predict(X_test)\n",
        "\n",
        "#Confusion Matrix & Measurement\n",
        "print(\"MLPClassifier: \")\n",
        "print(\"Confustion Matrix: \")\n",
        "print(confusion_matrix(y_test, y_ml_pred))\n",
        "print(\"Acuracy: \", accuracy_score(y_test, y_ml_pred)*100)\n",
        "print(\"Classification Report: \")\n",
        "\n",
        "print(classification_report(y_test, y_ml_pred))\n",
        "\n",
        "y_pred_prob_mlp = ml.predict_proba(X_test)[:,1]\n",
        "fpr_ml, tpr_ml, thresholds = roc_curve(y_test, y_pred_prob_mlp)\n",
        "auc_mlp=roc_auc_score(y_test, y_pred_prob_mlp)*100\n",
        "print(\"AUC for MLPClassifier:\", auc_mlp)\n",
        "\n",
        "avg_precsion_mlp=average_precision_score(y_test, y_pred_prob_mlp)*100 \n",
        "print(\"Average Precision Score:\",avg_precsion_mlp)"
      ],
      "execution_count": 0,
      "outputs": []
    },
    {
      "cell_type": "code",
      "metadata": {
        "id": "E5mQxjRQt5aK",
        "colab_type": "code",
        "colab": {}
      },
      "source": [
        "\n",
        "#KNNClassification\n",
        "\n",
        "KNNClassification = KNeighborsClassifier(n_neighbors=2)\n",
        "KNNClassification.fit(X_train,y_train)\n",
        "y_predictionKNN=KNNClassification.predict(X_test)\n",
        "\n",
        "\n",
        "#Confusion Matrix & Measurement\n",
        "print(\"KNNClassification: \")\n",
        "print(\"Confustion Matrix: \")\n",
        "print(confusion_matrix(y_test, y_predictionKNN))\n",
        "print(\"Acuracy: \", accuracy_score(y_test, y_predictionKNN)*100)\n",
        "print(\"Classification Report: \")\n",
        "\n",
        "print(classification_report(y_test, y_predictionKNN))\n",
        "\n",
        "y_pred_prob_knn = KNNClassification.predict_proba(X_test)[:,1]\n",
        "fpr_knn, tpr_knn, thresholds = roc_curve(y_test, y_pred_prob_knn)\n",
        "auc_knn=roc_auc_score(y_test, y_pred_prob_knn)*100\n",
        "print(\"AUC for KNNClassification:\", auc_knn)\n",
        "\n",
        "avg_precision_knn=average_precision_score(y_test, y_pred_prob_knn)*100\n",
        "\n",
        "print(\"Average Precision Score:\", avg_precision_knn)"
      ],
      "execution_count": 0,
      "outputs": []
    },
    {
      "cell_type": "code",
      "metadata": {
        "id": "ImBelULmvCV1",
        "colab_type": "code",
        "colab": {}
      },
      "source": [
        "from sklearn.ensemble import GradientBoostingClassifier\n",
        "# Step 6: Fit a Gradient Boosting model, \" compared to \"Decision Tree model, accuracy go up by 10%\n",
        "#GradientBoostingClassifier\n",
        "gbt = GradientBoostingClassifier(n_estimators=100)\n",
        "gbt.fit(X_train, y_train)\n",
        "y_pred_gbt = gbt.predict(X_test)\n",
        "#Confusion Matrix & Measurement\n",
        "print(\"GradientBoostingClassifier: \")\n",
        "print(\"Confustion Matrix: \")\n",
        "print(confusion_matrix(y_test, y_pred_gbt))\n",
        "print(\"Acuracy: \", accuracy_score(y_test, y_pred_gbt)*100)\n",
        "print(\"Classification Report: \")\n",
        "print(classification_report(y_test, y_pred_gbt))\n",
        "\n",
        "y_pred_prob_gbt = gbt.predict_proba(X_test)[:,1]\n",
        "fpr_gbt, tpr_gbt, thresholds = roc_curve(y_test, y_pred_prob_gbt)\n",
        "auc_gbt=roc_auc_score(y_test, y_pred_prob_gbt)*100\n",
        "print(\"AUC for GradientBoostingClassifier:\",auc_gbt )\n",
        "avg_precsion_gbt=average_precision_score(y_test, y_pred_prob_gbt)*100\n",
        "print(\"Average Precision Score:\", avg_precsion_gbt)"
      ],
      "execution_count": 0,
      "outputs": []
    },
    {
      "cell_type": "code",
      "metadata": {
        "id": "eSb1vyaxu9G3",
        "colab_type": "code",
        "colab": {}
      },
      "source": [
        "##Building the Function for AUC validation\n",
        "from sklearn.preprocessing import LabelBinarizer\n",
        "def multiclass_roc_auc_score(y_test,y_pred,average=\"macro\"):\n",
        "    lb=LabelBinarizer()\n",
        "    lb.fit(y_test)\n",
        "    y_test=lb.transform(y_test)\n",
        "    y_pred=lb.transform(y_pred)\n",
        "    return  metrics.roc_auc_score(y_test,y_pred,average=average)\n",
        "##Building the Function for AUC validation ends here"
      ],
      "execution_count": 0,
      "outputs": []
    },
    {
      "cell_type": "code",
      "metadata": {
        "id": "DCgoPFux8MJP",
        "colab_type": "code",
        "colab": {}
      },
      "source": [
        "## Voting Algo Start\n",
        "from sklearn import metrics\n",
        "from sklearn.metrics import auc\n",
        "print(\"#####################\")\n",
        "from sklearn.ensemble import VotingClassifier\n",
        "Voting_Classification = VotingClassifier(estimators=[('descit',dt),('multinomial',nb), ('random', rf),('sv',sv),('gn',gnb),('ada',ada),('mlp',ml),('knn', KNNClassification)], voting='soft', weights=[2,1,1,3,1,2,1,0])\n",
        "Voting_Classification.fit(X_train,y_train)\n",
        "\n",
        "y_predictionVoting=Voting_Classification.predict(X_test)\n",
        "print(\"Accuracy: \",metrics.accuracy_score(y_test, y_predictionVoting)*100)\n",
        "print(metrics.confusion_matrix(y_test,y_predictionVoting))\n",
        "\n",
        "#aucVoting=multiclass_roc_auc_score(y_test,y_predictionVoting,average=\"macro\")\n",
        "#aucv=aucVoting*100;\n",
        "#print(\"Are under Curve for Voting: \", aucv)\n",
        "print(\"Report for Voting: \")\n",
        "print(metrics.classification_report(y_test,y_predictionVoting))\n",
        "\n",
        "y_pred_prob_vot = Voting_Classification.predict_proba(X_test)[:,1]\n",
        "fpr, tpr, thresholds = roc_curve(y_test, y_pred_prob_vot)\n",
        "auc_vot=roc_auc_score(y_test, y_pred_prob_vot)*100\n",
        "print(\"AUC for Esemble:\",auc_vot)\n",
        "#Another way to findout AUC\n",
        "#fpr, tpr, thresholds = roc_curve(y_test, y_pred_prob_vot)\n",
        "#auc_vot=auc(fpr, tpr)*100\n",
        "#print(\"AUC for Esemble:\",auc_vot)\n",
        "avg_precsion_vot=average_precision_score(y_test, y_pred_prob_vot)*100\n",
        "print(\"Average Precision Score:\", avg_precsion_vot)\n",
        "print(\"#####################\")"
      ],
      "execution_count": 0,
      "outputs": []
    },
    {
      "cell_type": "code",
      "metadata": {
        "id": "UwcTaMYU6mV1",
        "colab_type": "code",
        "colab": {}
      },
      "source": [
        "from sklearn.metrics import roc_curve\n",
        "import matplotlib.pyplot as plt\n",
        "%matplotlib inline\n",
        "plt.figure(1)\n",
        "plt.plot([0, 0.97], [0, 0.97], 'k--')\n",
        "plt.plot(fpr, tpr, label='EVC (area = {:.3f})'.format(auc_vot))\n",
        "plt.xlabel('False positive rate')\n",
        "plt.ylabel('True positive rate')\n",
        "plt.title('ROC curve')\n",
        "plt.legend(loc='best')\n",
        "plt.show()"
      ],
      "execution_count": 0,
      "outputs": []
    },
    {
      "cell_type": "code",
      "metadata": {
        "id": "yn2TN4AhVScT",
        "colab_type": "code",
        "colab": {}
      },
      "source": [
        "plt.figure(1)\n",
        "#plt.plot([0, 1], [0, 1], 'k--')\n",
        "plt.plot(fpr, tpr, label='WVC (area = {:.2f})'.format(auc_vot))\n",
        "plt.plot(fpr_dt, tpr_dt, label='DT (area = {:.2f})'.format(auc_dt))\n",
        "plt.plot(fpr_mnb, tpr_mnb, label='MNB (area = {:.2f})'.format(auc_mnb))\n",
        "plt.plot(fpr_rf, tpr_rf, label='RF (area = {:.2f})'.format(auc_rf))\n",
        "#plt.plot(fpr_svm, tpr_svm, marker='.', label='SVM (area = {:.3f})'.format(auc_svc))\n",
        "#plt.plot(fpr_gnb, tpr_gnb, label='GNB (area = {:.3f})'.format(auc_gnb))\n",
        "plt.plot(fpr_ada, tpr_ada, label='AdaBoost (area = {:.2f})'.format(auc_ada))\n",
        "plt.plot(fpr_ml, tpr_ml, label='MLP (area = {:.2f})'.format(auc_mlp))\n",
        "plt.plot(fpr_knn, tpr_knn, label='KNN (area = {:.2f})'.format(auc_knn))\n",
        "plt.plot(fpr_svm, tpr_svm, marker='*', color='blue', label='SVM (area = {:.2f})'.format(auc_svc))\n",
        "#plt.plot(fpr_gbt, tpr_gbt, label='GBT (area = {:.3f})'.format(auc_gbt))\n",
        "plt.xlabel('False positive rate')\n",
        "plt.ylabel('True positive rate')\n",
        "plt.title('ROC curve')\n",
        "plt.legend(loc='best')\n",
        "plt.show()\n"
      ],
      "execution_count": 0,
      "outputs": []
    },
    {
      "cell_type": "markdown",
      "metadata": {
        "id": "sy9Rz1tusZh9",
        "colab_type": "text"
      },
      "source": [
        "#Plot ROC and compare AUC\n",
        "\n",
        "For more info visit: https://scikit-learn.org/stable/auto_examples/model_selection/plot_roc.html"
      ]
    },
    {
      "cell_type": "code",
      "metadata": {
        "id": "7XvSL-cfVuvg",
        "colab_type": "code",
        "colab": {}
      },
      "source": [
        "\n",
        "plt.plot(fpr, tpr, color='orange', label='ROC')\n",
        "plt.plot(fpr_svm, tpr_svm, color='blue', label='SVM')\n",
        "plt.plot([0, 1], [0, 1], color='darkblue', linestyle='--')\n",
        "plt.xlabel('False Positive Rate')\n",
        "plt.ylabel('True Positive Rate')\n",
        "plt.title('Receiver Operating Characteristic (ROC) Curve')\n",
        "plt.legend()\n",
        "plt.show()"
      ],
      "execution_count": 0,
      "outputs": []
    },
    {
      "cell_type": "markdown",
      "metadata": {
        "id": "cgWBCeVo_9UX",
        "colab_type": "text"
      },
      "source": [
        "#PCA ANALYSIS"
      ]
    },
    {
      "cell_type": "code",
      "metadata": {
        "id": "SGLBMwHoa2Us",
        "colab_type": "code",
        "colab": {}
      },
      "source": [
        "train.head(5)"
      ],
      "execution_count": 0,
      "outputs": []
    },
    {
      "cell_type": "code",
      "metadata": {
        "id": "6BxLXf8w_8ct",
        "colab_type": "code",
        "colab": {}
      },
      "source": [
        "#feature = [\"Q1\", \"Q2\",\"Q3\", \"Q4\",\"Q5\", \"Q6\",\"Q7\", \"Q8\",\"Q9\", \"Q10\",\"Q11\", \"Q12\",\"Q13\", \"Q14\",\"Q15\"]\n",
        "feature = [\"Gender\", \"Age\",\"Family_Member\", \"Can_Play_With\",\"Jaundise\", \"Region\", \"House_Area\", \"Q1\", \"Q2\",\"Q3\", \"Q4\",\"Q5\", \"Q6\",\"Q7\", \"Q8\",\"Q9\", \"Q10\",\"Q11\", \"Q12\",\"Q13\", \"Q14\",\"Q15\", \"Q16\", \"Q17\",\"Q18\",\"Q19\", \"Q20\", \"Q21\", \"Q22\", \"Q23\", \"Q24\", \"Q25\", \"Q26\", \"Q27\", \"Q28\",\"Q29\",\"Q30\",\"Q31\",\"Q32\",\"Q33\",\"Q34\",\"Q35\", \"Q36\", \"Q37\",\"Q38\",\"Q39\",\"Q40\",\"Q41\",\"Q42\",\"Q43\",\"Q44\",\"Q45\",\"Q46\",\"Q47\",\"Q48\",\"Q49\",\"Q50\",\"Q51\",\"Q52\",\"Q53\",\"Q54\",\"Q55\",\"Q56\",\"Q57\",\"Q58\",\"Q59\",\"Q60\",\"Q61\",\"Q62\",\"Q63\",\"Q64\", \"Q65\"]"
      ],
      "execution_count": 0,
      "outputs": []
    },
    {
      "cell_type": "code",
      "metadata": {
        "id": "Xc9ZLkaSAwkW",
        "colab_type": "code",
        "colab": {}
      },
      "source": [
        "from sklearn.preprocessing import StandardScaler\n",
        "# separating features\n",
        "x = train.loc[:,feature]\n",
        "\n",
        "# separating target\n",
        "y = train.loc[:,\"Autism\"]\n",
        "\n",
        "#Standardising features\n",
        "x = StandardScaler().fit_transform(x)"
      ],
      "execution_count": 0,
      "outputs": []
    },
    {
      "cell_type": "code",
      "metadata": {
        "id": "YA1WES1ABAZd",
        "colab_type": "code",
        "colab": {}
      },
      "source": [
        "from sklearn.decomposition import PCA\n",
        "\n",
        "pca = PCA(n_components=2)\n",
        "\n",
        "pct = pca.fit_transform(x)\n",
        "\n",
        "principal_df = pd.DataFrame(pct,columns=['pc1','pc2'])\n",
        "\n",
        "finaldf= pd.concat([principal_df,train[['Autism']]],axis=1)"
      ],
      "execution_count": 0,
      "outputs": []
    },
    {
      "cell_type": "code",
      "metadata": {
        "id": "1zEC057JCD3t",
        "colab_type": "code",
        "colab": {}
      },
      "source": [
        "finaldf.head()"
      ],
      "execution_count": 0,
      "outputs": []
    },
    {
      "cell_type": "code",
      "metadata": {
        "id": "AQDzA5u2BO2H",
        "colab_type": "code",
        "colab": {}
      },
      "source": [
        "fig = plt.figure(figsize = (5,5))\n",
        "ax = fig.add_subplot(1,1,1) \n",
        "ax.set_xlabel('Principal Component 1', fontsize = 15)\n",
        "ax.set_ylabel('Principal Component 2', fontsize = 15)\n",
        "ax.set_title('Feature Extraction', fontsize = 20)\n",
        "targets = [1, 0]\n",
        "colors = ['r', 'g', 'b']\n",
        "for target, color in zip(targets,colors):\n",
        "    indicesToKeep = finaldf['Autism'] == target\n",
        "    ax.scatter(finaldf.loc[indicesToKeep, 'pc1']\n",
        "               , finaldf.loc[indicesToKeep, 'pc2']\n",
        "               , c = color\n",
        "               , s = 50)\n",
        "ax.legend(targets)\n",
        "ax.grid()"
      ],
      "execution_count": 0,
      "outputs": []
    },
    {
      "cell_type": "code",
      "metadata": {
        "id": "uyd5xjUUeTft",
        "colab_type": "code",
        "colab": {}
      },
      "source": [
        "train_data.shape"
      ],
      "execution_count": 0,
      "outputs": []
    },
    {
      "cell_type": "code",
      "metadata": {
        "id": "sHEx8_rkqPqL",
        "colab_type": "code",
        "colab": {}
      },
      "source": [
        "train_data.head(4)"
      ],
      "execution_count": 0,
      "outputs": []
    },
    {
      "cell_type": "code",
      "metadata": {
        "id": "hLq1qIO6qS7q",
        "colab_type": "code",
        "colab": {}
      },
      "source": [
        "train_data = train_data.drop('ID', axis=1)"
      ],
      "execution_count": 0,
      "outputs": []
    },
    {
      "cell_type": "code",
      "metadata": {
        "id": "EKRvg5fsr-f4",
        "colab_type": "code",
        "colab": {}
      },
      "source": [
        "train_data = train_data.drop('Autism', axis=1)"
      ],
      "execution_count": 0,
      "outputs": []
    },
    {
      "cell_type": "code",
      "metadata": {
        "id": "L7UkqaROrzto",
        "colab_type": "code",
        "colab": {}
      },
      "source": [
        "train_data=train_data.drop('Age', axis=1)"
      ],
      "execution_count": 0,
      "outputs": []
    },
    {
      "cell_type": "code",
      "metadata": {
        "id": "P6ylW2NLqgJQ",
        "colab_type": "code",
        "colab": {}
      },
      "source": [
        "train_data = train_data.drop('Gender', axis=1)"
      ],
      "execution_count": 0,
      "outputs": []
    },
    {
      "cell_type": "code",
      "metadata": {
        "id": "ZbOaA8sOqkoB",
        "colab_type": "code",
        "colab": {}
      },
      "source": [
        "train_data = train_data.drop('Family_Member', axis=1)"
      ],
      "execution_count": 0,
      "outputs": []
    },
    {
      "cell_type": "code",
      "metadata": {
        "id": "C1p1Uh7LqrVp",
        "colab_type": "code",
        "colab": {}
      },
      "source": [
        "train_data = train_data.drop('Can_Play_With', axis=1)"
      ],
      "execution_count": 0,
      "outputs": []
    },
    {
      "cell_type": "code",
      "metadata": {
        "id": "sOBmJa0MqrSs",
        "colab_type": "code",
        "colab": {}
      },
      "source": [
        "train_data = train_data.drop('Jaundise', axis=1)"
      ],
      "execution_count": 0,
      "outputs": []
    },
    {
      "cell_type": "code",
      "metadata": {
        "id": "6ZLxb7boq1cU",
        "colab_type": "code",
        "colab": {}
      },
      "source": [
        "train_data = train_data.drop('Region', axis=1)"
      ],
      "execution_count": 0,
      "outputs": []
    },
    {
      "cell_type": "code",
      "metadata": {
        "id": "zyHUHpN9q5Bf",
        "colab_type": "code",
        "colab": {}
      },
      "source": [
        "train_data = train_data.drop('House_Area', axis=1)"
      ],
      "execution_count": 0,
      "outputs": []
    },
    {
      "cell_type": "code",
      "metadata": {
        "id": "5flEFJnlxsxd",
        "colab_type": "code",
        "colab": {}
      },
      "source": [
        "train_data = train_data.drop('Q11', axis=1)"
      ],
      "execution_count": 0,
      "outputs": []
    },
    {
      "cell_type": "code",
      "metadata": {
        "id": "1N1MW2OHxst5",
        "colab_type": "code",
        "colab": {}
      },
      "source": [
        "train_data = train_data.drop('Q14', axis=1)"
      ],
      "execution_count": 0,
      "outputs": []
    },
    {
      "cell_type": "code",
      "metadata": {
        "id": "6zmpBrpQx0qQ",
        "colab_type": "code",
        "colab": {}
      },
      "source": [
        "train_data = train_data.drop('Q15', axis=1)"
      ],
      "execution_count": 0,
      "outputs": []
    },
    {
      "cell_type": "code",
      "metadata": {
        "id": "RO6iE1jpx37d",
        "colab_type": "code",
        "colab": {}
      },
      "source": [
        "train_data = train_data.drop('Q17', axis=1)"
      ],
      "execution_count": 0,
      "outputs": []
    },
    {
      "cell_type": "code",
      "metadata": {
        "id": "bW7IdJd8x8MR",
        "colab_type": "code",
        "colab": {}
      },
      "source": [
        "train_data = train_data.drop('Q18', axis=1)"
      ],
      "execution_count": 0,
      "outputs": []
    },
    {
      "cell_type": "code",
      "metadata": {
        "id": "1iImFCdlyBMy",
        "colab_type": "code",
        "colab": {}
      },
      "source": [
        "train_data = train_data.drop('Q33', axis=1)"
      ],
      "execution_count": 0,
      "outputs": []
    },
    {
      "cell_type": "code",
      "metadata": {
        "id": "UZKfeVn8x35O",
        "colab_type": "code",
        "colab": {}
      },
      "source": [
        "train_data = train_data.drop('Q35', axis=1)"
      ],
      "execution_count": 0,
      "outputs": []
    },
    {
      "cell_type": "code",
      "metadata": {
        "id": "2OFBOA_QyHc9",
        "colab_type": "code",
        "colab": {}
      },
      "source": [
        "train_data = train_data.drop('Q38', axis=1)"
      ],
      "execution_count": 0,
      "outputs": []
    },
    {
      "cell_type": "code",
      "metadata": {
        "id": "0JZPaf9ryHaZ",
        "colab_type": "code",
        "colab": {}
      },
      "source": [
        "train_data = train_data.drop('Q40', axis=1)"
      ],
      "execution_count": 0,
      "outputs": []
    },
    {
      "cell_type": "code",
      "metadata": {
        "id": "6R6qGQ6-yPH_",
        "colab_type": "code",
        "colab": {}
      },
      "source": [
        "train_data = train_data.drop('Q49', axis=1)"
      ],
      "execution_count": 0,
      "outputs": []
    },
    {
      "cell_type": "code",
      "metadata": {
        "id": "ncV459fOyV9w",
        "colab_type": "code",
        "colab": {}
      },
      "source": [
        "train_data = train_data.drop('Q51', axis=1)"
      ],
      "execution_count": 0,
      "outputs": []
    },
    {
      "cell_type": "code",
      "metadata": {
        "id": "8jkjmOeZyZw_",
        "colab_type": "code",
        "colab": {}
      },
      "source": [
        "train_data = train_data.drop('Q56', axis=1)"
      ],
      "execution_count": 0,
      "outputs": []
    },
    {
      "cell_type": "code",
      "metadata": {
        "id": "orLGh1NCyZu1",
        "colab_type": "code",
        "colab": {}
      },
      "source": [
        ""
      ],
      "execution_count": 0,
      "outputs": []
    },
    {
      "cell_type": "code",
      "metadata": {
        "id": "WEl8uFr3rC12",
        "colab_type": "code",
        "colab": {}
      },
      "source": [
        "train_data.shape"
      ],
      "execution_count": 0,
      "outputs": []
    },
    {
      "cell_type": "code",
      "metadata": {
        "id": "gBzGTKNprdiZ",
        "colab_type": "code",
        "colab": {}
      },
      "source": [
        "train_data.head(5)"
      ],
      "execution_count": 0,
      "outputs": []
    },
    {
      "cell_type": "code",
      "metadata": {
        "id": "BT2ZjXfkrdgd",
        "colab_type": "code",
        "colab": {}
      },
      "source": [
        ""
      ],
      "execution_count": 0,
      "outputs": []
    },
    {
      "cell_type": "code",
      "metadata": {
        "id": "KTk36SohcV4l",
        "colab_type": "code",
        "colab": {}
      },
      "source": [
        "from sklearn.preprocessing import StandardScaler\n",
        "standard=StandardScaler().fit_transform(train_data)\n",
        "standard.shape"
      ],
      "execution_count": 0,
      "outputs": []
    },
    {
      "cell_type": "code",
      "metadata": {
        "id": "FoNkhCpIckik",
        "colab_type": "code",
        "colab": {}
      },
      "source": [
        "S=np.matmul(standard.T, standard)\n",
        "S.shape"
      ],
      "execution_count": 0,
      "outputs": []
    },
    {
      "cell_type": "code",
      "metadata": {
        "id": "-RdNHTGgfTmW",
        "colab_type": "code",
        "colab": {}
      },
      "source": [
        "\n",
        "from scipy import linalg\n",
        "eigen_values, eigen_vectors = linalg.eigh(S, eigvals=(0,52))"
      ],
      "execution_count": 0,
      "outputs": []
    },
    {
      "cell_type": "code",
      "metadata": {
        "id": "k9kSQIfVf-8y",
        "colab_type": "code",
        "colab": {}
      },
      "source": [
        "new_records=np.matmul(eigen_vectors, standard.T)\n",
        "print(\"Shape\", eigen_vectors.shape, \"X\", standard.T.shape, \" = \", new_records.shape)"
      ],
      "execution_count": 0,
      "outputs": []
    },
    {
      "cell_type": "code",
      "metadata": {
        "id": "pTILdj0RjQ-y",
        "colab_type": "code",
        "colab": {}
      },
      "source": [
        "label=l.head(500)"
      ],
      "execution_count": 0,
      "outputs": []
    },
    {
      "cell_type": "code",
      "metadata": {
        "id": "73hJqie2kjc1",
        "colab_type": "code",
        "colab": {}
      },
      "source": [
        "new_records=np.vstack((new_records, label)).T"
      ],
      "execution_count": 0,
      "outputs": []
    },
    {
      "cell_type": "code",
      "metadata": {
        "id": "64nWLZBWk2Ay",
        "colab_type": "code",
        "colab": {}
      },
      "source": [
        "#dataframe= pd.DataFrame(data=new_records, columns=(\"1\", \"2\",\"3\", \"4\",\"5\", \"6\",\"7\", \"8\",\"9\", \"10\",\"11\", \"12\",\"13\", \"14\",\"15\", \"16\",\"17\", \"18\",\"19\", \"20\",\"21\", \"22\",\"23\", \"24\",\"25\", \"26\",\"27\", \"28\",\"29\", \"30\",\"31\", \"32\",\"33\", \"34\",\"35\", \"36\",\"37\", \"38\",\"39\", \"40\",\"41\", \"42\",\"43\", \"44\",\"45\", \"46\",\"47\", \"48\",\"49\", \"50\",\"51\", \"52\",\"53\", \"54\",\"55\", \"56\",\"57\", \"58\",\"59\", \"60\",\"61\", \"62\",\"63\", \"64\",\"65\", \"label\"))"
      ],
      "execution_count": 0,
      "outputs": []
    },
    {
      "cell_type": "code",
      "metadata": {
        "id": "4NZPJ1joy4lT",
        "colab_type": "code",
        "colab": {}
      },
      "source": [
        "dataframe= pd.DataFrame(data=new_records, columns=(\"1\", \"2\",\"3\", \"4\",\"5\", \"6\",\"7\", \"8\",\"9\", \"10\", \"12\",\"13\",\"16\",\"19\", \"20\",\"21\", \"22\",\"23\", \"24\",\"25\", \"26\",\"27\", \"28\",\"29\", \"30\",\"31\", \"32\", \"34\", \"36\",\"37\",\"39\",\"41\", \"42\",\"43\", \"44\",\"45\",\"46\",\"47\",\"48\", \"50\", \"52\",\"53\",\"54\",\"55\",\"57\",\"58\",\"59\", \"60\",\"61\", \"62\",\"63\", \"64\",\"65\", \"label\"))"
      ],
      "execution_count": 0,
      "outputs": []
    },
    {
      "cell_type": "code",
      "metadata": {
        "id": "hB66qgE2lY5b",
        "colab_type": "code",
        "colab": {}
      },
      "source": [
        "print(dataframe.head(500))"
      ],
      "execution_count": 0,
      "outputs": []
    },
    {
      "cell_type": "code",
      "metadata": {
        "id": "rvlhZw6AtYLr",
        "colab_type": "code",
        "colab": {}
      },
      "source": [
        "import seaborn as sns"
      ],
      "execution_count": 0,
      "outputs": []
    },
    {
      "cell_type": "code",
      "metadata": {
        "id": "U8M7_riftYIU",
        "colab_type": "code",
        "colab": {}
      },
      "source": [
        "sns.FacetGrid(dataframe, hue=\"label\",height=6).map(plt.plot,\"1\", \"2\",\"3\", \"4\",\"5\", \"6\",\"7\", \"8\",\"9\", \"10\", \"12\",\"13\",\"16\",\"19\", \"20\",\"21\", \"22\",\"23\", \"24\",\"25\", \"26\",\"27\", \"28\",\"29\", \"30\",\"31\", \"32\", \"34\", \"36\",\"37\",\"39\",\"41\", \"42\",\"43\", \"44\",\"45\",\"46\",\"47\",\"48\", \"50\", \"52\",\"53\",\"54\",\"55\",\"57\",\"58\",\"59\", \"60\",\"61\", \"62\",\"63\", \"64\",\"65\").add_legend()"
      ],
      "execution_count": 0,
      "outputs": []
    },
    {
      "cell_type": "code",
      "metadata": {
        "id": "qhCVWnkQ_cFS",
        "colab_type": "code",
        "colab": {}
      },
      "source": [
        ""
      ],
      "execution_count": 0,
      "outputs": []
    },
    {
      "cell_type": "code",
      "metadata": {
        "id": "E0HIi5p2_b-2",
        "colab_type": "code",
        "colab": {}
      },
      "source": [
        ""
      ],
      "execution_count": 0,
      "outputs": []
    }
  ]
}